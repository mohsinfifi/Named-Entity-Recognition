{
 "cells": [
  {
   "cell_type": "markdown",
   "metadata": {},
   "source": [
    "### Auhtor Muhammad Mohsin\n"
   ]
  },
  {
   "cell_type": "code",
   "execution_count": null,
   "metadata": {},
   "outputs": [],
   "source": [
    "# Install spaCy and download a pre-trained model:\n",
    "\n",
    "!pip install spacy\n",
    "python -m spacy download en  # Downloads the English model\n"
   ]
  },
  {
   "cell_type": "code",
   "execution_count": null,
   "metadata": {},
   "outputs": [],
   "source": [
    "# add imports\n",
    "\n",
    "import spacy\n",
    "\n",
    "import random\n",
    "from spacy.training.example import Example\n",
    "\n",
    "\n"
   ]
  },
  {
   "cell_type": "code",
   "execution_count": null,
   "metadata": {},
   "outputs": [],
   "source": [
    "# load the pre-trained English model\n",
    "\n",
    "nlp = spacy.load(\"en_core_web_sm\")"
   ]
  },
  {
   "cell_type": "code",
   "execution_count": null,
   "metadata": {},
   "outputs": [],
   "source": [
    "# Process the text and extract named entities:\n",
    "\n",
    "text = \"Apple Inc. was founded by Steve Jobs in Cupertino, California in 1976.\"\n",
    "\n",
    "# Process the text using the loaded model\n",
    "doc = nlp(text)\n",
    "\n",
    "# Iterate through the entities in the text\n",
    "for ent in doc.ents:\n",
    "    print(f\"Entity: {ent.text}, Label: {ent.label_}\")\n"
   ]
  },
  {
   "cell_type": "markdown",
   "metadata": {},
   "source": [
    "### training a custom NER model using spaCy"
   ]
  },
  {
   "cell_type": "code",
   "execution_count": null,
   "metadata": {},
   "outputs": [],
   "source": [
    "\n",
    "\n",
    "# Load a blank English model\n",
    "nlp = spacy.blank(\"en\")\n",
    "\n",
    "# Add the NER component to the pipeline\n",
    "ner = nlp.add_pipe(\"ner\")\n",
    "\n",
    "# Add labels for named entities\n",
    "ner.add_label(\"ORG\")\n",
    "ner.add_label(\"PERSON\")\n",
    "\n",
    "# Your training data (a list of text and entities)\n",
    "TRAIN_DATA = [\n",
    "    (\"Apple Inc. was founded by Steve Jobs.\", {\"entities\": [(0, 10, \"ORG\"), (30, 41, \"PERSON\")]}),\n",
    "    # Add more examples\n",
    "]\n",
    "\n",
    "# Training loop\n",
    "n_iter = 100\n",
    "for _ in range(n_iter):\n",
    "    random.shuffle(TRAIN_DATA)\n",
    "    for text, annotations in TRAIN_DATA:\n",
    "        example = Example.from_dict(nlp.make_doc(text), annotations)\n",
    "        nlp.update([example])\n",
    "\n",
    "# Save the trained model\n",
    "nlp.to_disk(\"custom_ner_model\")\n",
    "\n",
    "# Load the model for NER\n",
    "custom_ner = spacy.load(\"custom_ner_model\")\n",
    "\n",
    "# Process text with the custom NER model\n",
    "doc = custom_ner(\"Apple Inc. was founded by Steve Jobs in Cupertino, California in 1976.\")\n",
    "for ent in doc.ents:\n",
    "    print(f\"Entity: {ent.text}, Label: {ent.label_}\")\n"
   ]
  },
  {
   "cell_type": "code",
   "execution_count": null,
   "metadata": {},
   "outputs": [],
   "source": []
  }
 ],
 "metadata": {
  "language_info": {
   "name": "python"
  }
 },
 "nbformat": 4,
 "nbformat_minor": 2
}
